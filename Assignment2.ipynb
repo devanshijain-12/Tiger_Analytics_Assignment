{
  "nbformat": 4,
  "nbformat_minor": 0,
  "metadata": {
    "colab": {
      "provenance": [],
      "authorship_tag": "ABX9TyM+Cc837vtt7GVagLxm0VMG",
      "include_colab_link": true
    },
    "kernelspec": {
      "name": "python3",
      "display_name": "Python 3"
    },
    "language_info": {
      "name": "python"
    }
  },
  "cells": [
    {
      "cell_type": "markdown",
      "metadata": {
        "id": "view-in-github",
        "colab_type": "text"
      },
      "source": [
        "<a href=\"https://colab.research.google.com/github/devanshijain-12/Tiger_Analytics_Assignment/blob/main/Assignment2.ipynb\" target=\"_parent\"><img src=\"https://colab.research.google.com/assets/colab-badge.svg\" alt=\"Open In Colab\"/></a>"
      ]
    },
    {
      "cell_type": "code",
      "execution_count": 4,
      "metadata": {
        "colab": {
          "base_uri": "https://localhost:8080/"
        },
        "id": "YihYc_HQ7BqL",
        "outputId": "e8a991e2-b8d3-49fb-addd-0c5ae4bab383"
      },
      "outputs": [
        {
          "output_type": "stream",
          "name": "stdout",
          "text": [
            "Mounted at /content/drive\n"
          ]
        }
      ],
      "source": [
        "import pandas as pd\n",
        "import numpy as np\n",
        "\n",
        "from google.colab import drive\n",
        "drive.mount('/content/drive', force_remount=True)\n",
        "\n",
        "sales = pd.read_excel(\"/content/drive/MyDrive/Colab Notebooks/SalesData.xlsx\")\n",
        "imdb = pd.read_csv(\"/content/drive/MyDrive/Colab Notebooks/imdb.csv\", on_bad_lines='skip')\n",
        "diamonds = pd.read_csv(\"/content/drive/MyDrive/Colab Notebooks/diamonds.csv\")"
      ]
    },
    {
      "cell_type": "code",
      "source": [
        "q1 = sales.groupby(\"Item\")[\"Sale_amt\"].min()\n",
        "\n",
        "sales[\"Year\"] = pd.to_datetime(sales[\"OrderDate\"]).dt.year\n",
        "q2 = sales.groupby([\"Year\",\"Region\"])[\"Sale_amt\"].sum()\n",
        "\n",
        "ref_date = pd.to_datetime(\"2019-12-31\")\n",
        "sales[\"days_diff\"] = (ref_date - pd.to_datetime(sales[\"OrderDate\"])).dt.days\n",
        "\n",
        "q4 = sales.groupby(\"Manager\")[\"SalesMan\"].unique()\n",
        "\n",
        "q5 = sales.groupby(\"Region\").agg(salesmen_count=(\"SalesMan\",\"nunique\"),total_sales=(\"Sale_amt\",\"sum\"))\n",
        "\n",
        "q6 = sales.groupby(\"Manager\")[\"Sale_amt\"].sum()\n",
        "q6 = (q6/q6.sum()*100)"
      ],
      "metadata": {
        "id": "U66dPf5S9mxL"
      },
      "execution_count": 9,
      "outputs": []
    },
    {
      "cell_type": "code",
      "source": [
        "q7 = imdb.iloc[4][\"imdbRating\"]\n",
        "\n",
        "shortest = imdb.loc[imdb[\"duration\"].idxmin(),\"title\"]\n",
        "longest = imdb.loc[imdb[\"duration\"].idxmax(),\"title\"]\n",
        "\n",
        "q9 = imdb.sort_values([\"year\",\"imdbRating\"],ascending=[True,False])\n",
        "\n",
        "q10 = imdb[(imdb[\"duration\"]>=1800)&(imdb[\"duration\"]<=10800)]"
      ],
      "metadata": {
        "id": "gcRdWWmP-0WS"
      },
      "execution_count": 13,
      "outputs": []
    },
    {
      "cell_type": "code",
      "source": [
        "q11 = diamonds.duplicated().sum()\n",
        "\n",
        "q12 = diamonds.dropna(subset=[\"carat\",\"cut\"])\n",
        "\n",
        "q13 = diamonds.select_dtypes(include=\"number\")\n",
        "\n",
        "diamonds[\"volume\"] = np.where(diamonds[\"depth\"]>60,diamonds[\"x\"]*diamonds[\"y\"]*diamonds[\"z\"],8)\n",
        "\n",
        "diamonds[\"price\"] = diamonds[\"price\"].fillna(diamonds[\"price\"].mean())"
      ],
      "metadata": {
        "id": "i2zU737y--Ie"
      },
      "execution_count": 11,
      "outputs": []
    }
  ]
}